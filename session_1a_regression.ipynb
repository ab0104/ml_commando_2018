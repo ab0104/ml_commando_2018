{
 "cells": [
  {
   "cell_type": "markdown",
   "metadata": {},
   "source": [
    "# Session 1a - Regression"
   ]
  },
  {
   "cell_type": "code",
   "execution_count": 270,
   "metadata": {},
   "outputs": [
    {
     "name": "stdout",
     "output_type": "stream",
     "text": [
      "Populating the interactive namespace from numpy and matplotlib\n",
      "Python version: 3.6.3\n",
      "IPython version: 6.2.1\n",
      "numpy version: 1.13.3\n",
      "scikit-learn version: 0.19.1\n",
      "matplotlib version: 2.1.0\n"
     ]
    }
   ],
   "source": [
    "%pylab inline\n",
    "\n",
    "import numpy as np\n",
    "import scipy as sp\n",
    "import matplotlib.pyplot as plt\n",
    "import sklearn\n",
    "import IPython\n",
    "import platform\n",
    "    \n",
    "print ('Python version:', platform.python_version())\n",
    "print ('IPython version:', IPython.__version__)\n",
    "print ('numpy version:', np.__version__)\n",
    "print ('scikit-learn version:', sklearn.__version__)\n",
    "print ('matplotlib version:', matplotlib.__version__)"
   ]
  },
  {
   "cell_type": "code",
   "execution_count": 271,
   "metadata": {},
   "outputs": [],
   "source": [
    "def my_linear_regression(xs,ys, n_iter=1000):\n",
    "    N = len(xs)\n",
    "    m = 0.0\n",
    "    b = 0.0\n",
    "    learning_rate_alpha = 0.001\n",
    "    \n",
    "    for i in range(n_iter):\n",
    "        cost = 0\n",
    "        y_hats = []\n",
    "        for x in xs:\n",
    "            y_hats.append( b + m*x )\n",
    "        \n",
    "        for x,y,y_hat in zip(xs,ys,y_hats):\n",
    "            cost += (y_hat- y)**2\n",
    "        if i % 100 == 0:\n",
    "            print(\"cost at iteration {} = {}\".format(i,cost))\n",
    "\n",
    "        del_m = 0.0\n",
    "        del_b = 0.0    \n",
    "        for x,y,y_hat in zip(xs,ys,y_hats):  \n",
    "            del_m += (2/N)*( x * (y_hat - y) )\n",
    "            del_b += (2/N)*( y_hat - y )\n",
    "            \n",
    "        m = m - learning_rate_alpha * del_m\n",
    "        b = b - learning_rate_alpha * del_b\n",
    "    return y_hats, m, b, cost"
   ]
  },
  {
   "cell_type": "code",
   "execution_count": 272,
   "metadata": {},
   "outputs": [
    {
     "name": "stdout",
     "output_type": "stream",
     "text": [
      "[[ 0.2012]\n",
      " [-0.2269]\n",
      " [-0.6549]\n",
      " [-0.8689]\n",
      " [-0.0128]]\n",
      "[[ 0.2174]\n",
      " [-1.1082]\n",
      " [-0.578 ]\n",
      " [-0.8431]\n",
      " [ 0.4825]]\n"
     ]
    }
   ],
   "source": [
    "from sklearn import datasets\n",
    "iris = datasets.load_iris()\n",
    "X_iris = iris.data\n",
    "y_iris = iris.target\n",
    "\n",
    "scaler = preprocessing.StandardScaler()\n",
    "\n",
    "iris_sepal = X_iris[:,0:2]\n",
    "# iris_sepal = scaler.fit_transform(iris_sepal)\n",
    "# iris_petal = X_iris[:,2:4]\n",
    "\n",
    "setosa_sepal =iris_sepal[y_iris == 0]\n",
    "# setosa_petal =iris_petal[y_iris == 0]\n",
    "\n",
    "setosa_sepal_l = preprocessing.scale(setosa_sepal[:,0].reshape(-1,1))\n",
    "setosa_sepal_w = preprocessing.scale(setosa_sepal[:,1].reshape(-1,1))\n",
    "\n",
    "from sklearn import linear_model\n",
    "reg = linear_model.LinearRegression()\n",
    "reg.fit(setosa_sepal_l, setosa_sepal_w)\n",
    "\n",
    "pred = reg.predict(setosa_sepal_l)\n",
    "print(pred[0:5])\n",
    "print(setosa_sepal_w[0:5])"
   ]
  },
  {
   "cell_type": "code",
   "execution_count": 273,
   "metadata": {},
   "outputs": [
    {
     "name": "stdout",
     "output_type": "stream",
     "text": [
      "cost at iteration 0 = [ 50.]\n",
      "cost at iteration 100 = [ 40.7997]\n",
      "cost at iteration 200 = [ 34.635]\n",
      "cost at iteration 300 = [ 30.5044]\n",
      "cost at iteration 400 = [ 27.7366]\n",
      "cost at iteration 500 = [ 25.8821]\n",
      "cost at iteration 600 = [ 24.6395]\n",
      "cost at iteration 700 = [ 23.8068]\n",
      "cost at iteration 800 = [ 23.2489]\n",
      "cost at iteration 900 = [ 22.8751]\n",
      "m= [ 0.6459] b= [ -4.8907e-17]\n",
      "cost= [ 22.6267]\n"
     ]
    },
    {
     "data": {
      "image/png": "[encoded data removed]",
      "text/plain": [
       "<matplotlib.figure.Figure at 0x7fd1dfc23c88>"
      ]
     },
     "metadata": {},
     "output_type": "display_data"
    }
   ],
   "source": [
    "diy_predictions, m, b, cost = my_linear_regression(setosa_sepal_l, setosa_sepal_w)\n",
    "print(\"m=\",m,\"b=\",b)\n",
    "print(\"cost=\",cost)\n",
    "\n",
    "plt.scatter(setosa_sepal_l, setosa_sepal_w)\n",
    "plt.plot(setosa_sepal_l,y_hats, color=\"green\")\n",
    "plt.show()"
   ]
  },
  {
   "cell_type": "code",
   "execution_count": 274,
   "metadata": {},
   "outputs": [
    {
     "data": {
      "text/plain": [
       "[<matplotlib.lines.Line2D at 0x7fd1dfc23b38>]"
      ]
     },
     "execution_count": 274,
     "metadata": {},
     "output_type": "execute_result"
    },
    {
     "data": {
      "image/png": "[encoded data removed]",
      "text/plain": [
       "<matplotlib.figure.Figure at 0x7fd1dfc23ac8>"
      ]
     },
     "metadata": {},
     "output_type": "display_data"
    }
   ],
   "source": [
    "pred = reg.predict(setosa_sepal_l)\n",
    "\n",
    "plt.scatter(setosa_sepal_l, setosa_sepal_w)\n",
    "# plot the regression line (should match our DIY routine)\n",
    "plt.plot(setosa_sepal_l, pred, color=\"red\")"
   ]
  },
  {
   "cell_type": "markdown",
   "metadata": {},
   "source": [
    "## Multivariate linear regression\n",
    "\n",
    "To demonstrate multivariate regression in scikit-learn, we will apply it to a (very) simple and well-know problem: trying to predict the price of a house given some of its characteristics. As the dataset, we will use the 1978 Boston house price dataset (find the dataset description and attributes [here](http://www.cs.toronto.edu/~delve/data/boston/bostonDetail.html))."
   ]
  },
  {
   "cell_type": "code",
   "execution_count": 275,
   "metadata": {},
   "outputs": [
    {
     "name": "stdout",
     "output_type": "stream",
     "text": [
      "Boston dataset shape:(506, 13)\n",
      "Boston target shape:(506,)\n",
      "['CRIM' 'ZN' 'INDUS' 'CHAS' 'NOX' 'RM' 'AGE' 'DIS' 'RAD' 'TAX' 'PTRATIO'\n",
      " 'B' 'LSTAT']\n",
      "features:\n",
      " [[  6.3200e-03   1.8000e+01   2.3100e+00   0.0000e+00   5.3800e-01\n",
      "    6.5750e+00   6.5200e+01   4.0900e+00   1.0000e+00   2.9600e+02\n",
      "    1.5300e+01   3.9690e+02   4.9800e+00]\n",
      " [  2.7310e-02   0.0000e+00   7.0700e+00   0.0000e+00   4.6900e-01\n",
      "    6.4210e+00   7.8900e+01   4.9671e+00   2.0000e+00   2.4200e+02\n",
      "    1.7800e+01   3.9690e+02   9.1400e+00]\n",
      " [  2.7290e-02   0.0000e+00   7.0700e+00   0.0000e+00   4.6900e-01\n",
      "    7.1850e+00   6.1100e+01   4.9671e+00   2.0000e+00   2.4200e+02\n",
      "    1.7800e+01   3.9283e+02   4.0300e+00]]\n",
      "prices:\n",
      " [ 24.   21.6  34.7]\n"
     ]
    }
   ],
   "source": [
    "from sklearn.datasets import load_boston\n",
    "from sklearn import preprocessing\n",
    "boston = load_boston()\n",
    "print ('Boston dataset shape:{}'.format(boston.data.shape))\n",
    "print ('Boston target shape:{}'.format(boston.target.shape))\n",
    "print (boston.feature_names)\n",
    "\n",
    "\n",
    "X_train_boston_raw=boston.data\n",
    "y_train_boston_raw=boston.target\n",
    "\n",
    "numpy.set_printoptions(precision=4)\n",
    "print(\"features:\\n\", X_train_boston_raw[0:3,:])\n",
    "print(\"prices:\\n\", y_train_boston_raw[0:3])\n",
    "\n",
    "X_train_boston = preprocessing.scale(X_train_boston_raw) # shortcut to preprocessing.StandardScaler()\n",
    "y_train_boston = preprocessing.scale(y_train_boston_raw)"
   ]
  },
  {
   "cell_type": "markdown",
   "metadata": {},
   "source": [
    "## Training using n-fold cross-validation\n",
    "\n",
    "Previously we've trained using a dataset split into train and test subsets.  Another way to split your data is to use cross validation.\n",
    "\n",
    "One of the main advantages of cross-validation is reducing the variance of the evaluation measures.  When you split the data manually, you will find that for each different split, your algorithm's performance will vary.  How do you know what is the right score?\n",
    "\n",
    "Evaluation within machine learning generally assumes that the distribution of classes on your training and testing sets are similar. If not, you may get results that are not a truthful measure of the classifier's performance. Cross-validation lets us mitigate this: we are averaging on k different models built on k different datasets, so we are reducing variance and probably producing more realistic performance scores for our models.\n",
    "\n",
    "Another benefit of cross-validation is that it allows us to make good use of the data we have available - each example acts as both a training datapoint and as a validation datapoint."
   ]
  },
  {
   "cell_type": "code",
   "execution_count": 277,
   "metadata": {},
   "outputs": [],
   "source": [
    "def train_and_evaluate(_clf, X_train, y_train, n_folds):\n",
    "    _clf.fit(X_train, y_train)\n",
    "    print ('Score on training set: {:.2f}'.format(_clf.score(X_train, y_train)))\n",
    "    #create a k-fold cross validation iterator of k=5 folds\n",
    "    data =X_train.shape[0]\n",
    "    cv = sklearn.model_selection.KFold(n_splits= n_folds, shuffle=True, random_state=42)\n",
    "    scores = sklearn.model_selection.cross_val_score(_clf, X_train, y_train, cv=cv)\n",
    "    print ('Average score using {}-fold crossvalidation:{:.2f}'.format(n_folds,np.mean(scores)))\n",
    "    return _clf"
   ]
  },
  {
   "cell_type": "markdown",
   "metadata": {},
   "source": [
    "For classification, we used accuracy, the proportion of correctly classified test-instances, to summarise our method’s performance.\n",
    "\n",
    "For regression, accuracy is a bad idea: we are predicting real values, so it's almost impossible to exactly predict the true value.\n",
    "\n",
    "Instead, the default score function in scikit-learn is the coefficient of determination (or $R^2$ score), which measures the proportion of outcome variation explained by the model. $R^2 \\in [0,1]$, and reaches 1 when the model perfectly predicts all the target values."
   ]
  },
  {
   "cell_type": "code",
   "execution_count": 278,
   "metadata": {},
   "outputs": [
    {
     "name": "stdout",
     "output_type": "stream",
     "text": [
      "Score on training set: 0.74\n",
      "Average score using 5-fold crossvalidation:0.71\n",
      "[-0.0898  0.0905 -0.0318  0.08   -0.1731  0.3157 -0.0126 -0.2974  0.1576\n",
      " -0.0956 -0.2109  0.0989 -0.3975]\n",
      "0.488099516178\n"
     ]
    }
   ],
   "source": [
    "from sklearn import linear_model\n",
    "\n",
    "#Use a Stochastic Gradient Descent Regressor - this is a general purpose linear regressor good for large datasets\n",
    "clf_sgd = linear_model.SGDRegressor(loss='squared_loss', penalty=None, random_state=42, max_iter=10e5, tol=1e-4)\n",
    "train_and_evaluate(clf_sgd, X_train_boston, y_train_boston, 5)\n",
    "\n",
    "#print the hyperplane coefficients and their sum-of-squares\n",
    "\n",
    "print(clf_sgd.coef_)\n",
    "print(np.sum(np.square(clf_sgd.coef_)))"
   ]
  },
  {
   "cell_type": "code",
   "execution_count": 279,
   "metadata": {},
   "outputs": [
    {
     "name": "stdout",
     "output_type": "stream",
     "text": [
      "Score on training set: 0.74\n",
      "Average score using 5-fold crossvalidation:0.71\n",
      "[-0.0897  0.0904 -0.0318  0.08   -0.173   0.3157 -0.0126 -0.2973  0.1575\n",
      " -0.0956 -0.2109  0.0989 -0.3974]\n",
      "0.487942944467 <-- coefficients should be a bit smaller\n"
     ]
    }
   ],
   "source": [
    "clf_sgd2 = linear_model.SGDRegressor(loss='squared_loss', penalty=\"l2\", random_state=42, max_iter=10e5, tol=1e-4)\n",
    "train_and_evaluate(clf_sgd2, X_train_boston, y_train_boston, 5)\n",
    "print(clf_sgd2.coef_)\n",
    "print(np.sum(np.square(clf_sgd2.coef_)), \"<-- coefficients should be a bit smaller\")"
   ]
  },
  {
   "cell_type": "markdown",
   "metadata": {},
   "source": [
    "For classification, we used accuracy, the proportion of correctly classified test-instances, to summarise our method’s performance.\n",
    "\n",
    "For regression, accuracy is less useful: we are predicting continuous values, so it's virtually impossible to exactly predict the true value.\n",
    "\n",
    "Instead, the default score function in scikit-learn is the _coefficient of determination_ (or $R^2$ score), which measures the proportion of outcome variation explained by the model. $R^2 \\in [0,1]$, and reaches 1 when the model perfectly predicts all the target values."
   ]
  },
  {
   "cell_type": "markdown",
   "metadata": {},
   "source": [
    "## Extra\n",
    "Use a _non-linear_ regressor such as sklearn's SVR, and cross validate it on the Boston data.  Is it better?  If so, why might this be?"
   ]
  },
  {
   "cell_type": "markdown",
   "metadata": {},
   "source": [
    "## Summary\n",
    "- We implemented linear regression using our own routine and using the sklearn libraries.\n",
    "- We tried out multivariate regression on the Boston house price dataset, using k-fold cross validation to test our estimators\n",
    "- We looked at the effect of regularisation on a SGD linear regressor"
   ]
  },
  {
   "cell_type": "markdown",
   "metadata": {},
   "source": []
  }
 ],
 "metadata": {
  "kernelspec": {
   "display_name": "Python 3",
   "language": "python",
   "name": "python3"
  },
  "language_info": {
   "codemirror_mode": {
    "name": "ipython",
    "version": 3
   },
   "file_extension": ".py",
   "mimetype": "text/x-python",
   "name": "python",
   "nbconvert_exporter": "python",
   "pygments_lexer": "ipython3",
   "version": "3.6.3"
  }
 },
 "nbformat": 4,
 "nbformat_minor": 2
}
